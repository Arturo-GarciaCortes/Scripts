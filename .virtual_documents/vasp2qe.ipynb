import ase
from ase.build import bulk
from ase.io import read,write,cif,vasp, espresso
from ase.io.espresso import write_espresso_in
from ase import Atoms
from ase.visualize import view


vasp_file = 'CaB6_1x1_centered_slab.vasp'
slab = ase.io.vasp.read_vasp(vasp_file)


view(slab, viewer="x3d")


# Fake (or real if desired) Pseudopotentials
pseudopotentials = {'B': 'B.pbe-rrkjus.UPF', 'Ca': 'Ca.pbe-rrkjus.UPF'}

# Fake input data
input_data = {
    'calculation': 'relax',
    'restart_mode': 'from_scratch',
    'tprnfor': True,
    'etot_conv_thr': 1e-5,
    'forc_conv_thr': 1e-4,
    'ecutwfc': 60,
    'ecutrho': 480,
    'input_dft': 'rpbe',
    'vdw_corr': 'dft-d3',
    'occupations': 'smearing',
    'degauss': 0.01,
    'smearing': 'cold',
    'conv_thr': 1e-8,
    'mixing_mode': 'local-TF',
    'mixing_beta': 0.35,
    'diagonalization': 'david',
    'ion_dynamics': 'bfgs',
    'bfgs_ndim': 6,
    'startingwfc': 'random',
}  # This flat dictionary will be converted to a nested dictionary where, for example, "calculation" will be put into the "control" section


slab.get_cell()
pw_input_template = 'pw.in'
write(pw_input_template, slab, input_data=input_data, pseudopotentials=pseudopotentials, format='espresso-in')






