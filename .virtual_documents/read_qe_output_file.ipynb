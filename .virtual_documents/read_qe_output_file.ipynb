from ase.io.espresso import read_espresso_out
from ase import Atoms

## Retrieving the relaxed structure and information from a Quantum ESPRESSO output file (relax or vc-relax calculation) ASE
qe_output_file_1 = '/home/agarcia/Arturo_MATS/HAp_project/HAp_supercells/2x2x2/doped/europium/europium3+/OH_to_O/0Ca1_1Ca2/qe.33559367.out'
with open(qe_output_file_1, 'r') as file:
    for atoms in read_espresso_out(file, index=slice(-1,None)):
        zeroCa1_1Ca2_relaxed_structure = atoms



