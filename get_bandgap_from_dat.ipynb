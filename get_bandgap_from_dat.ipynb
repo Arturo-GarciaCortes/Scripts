{
 "cells": [
  {
   "cell_type": "markdown",
   "id": "f2b7acd6-cd77-44d6-b454-6368f94226ff",
   "metadata": {},
   "source": [
    "## This code is to get the band gap value from a .dat.gnu file generated using Quantum ESPRESSO code ('bands' calculation)"
   ]
  },
  {
   "cell_type": "code",
   "execution_count": 1,
   "id": "c941ed1b-b671-4c7c-968d-c2ed3b76b5c3",
   "metadata": {},
   "outputs": [],
   "source": [
    "import ase\n",
    "from ase import atoms\n",
    "from ase.visualize import view\n",
    "import pandas as pd"
   ]
  },
  {
   "cell_type": "code",
   "execution_count": 2,
   "id": "709041a4-295c-4799-8915-fc31d1edce57",
   "metadata": {},
   "outputs": [],
   "source": [
    "# Program functions\n",
    "\n",
    "def get_energies(dat_file):\n",
    "    \"\"\"\n",
    "    This function reads the .dat.gnu file and filters data to keep only the energy values (y-axis column)\n",
    "    \"\"\"\n",
    "    lines = []\n",
    "    energies = []\n",
    "    \n",
    "    # Read the file and store all lines into a list\n",
    "    with open(dat_file, 'r') as file:\n",
    "        for line in file:\n",
    "            lines.append(line)\n",
    "            \n",
    "    # Get only the y-values (energies) of the data \n",
    "    for line in lines:\n",
    "        energy = line[12:20]\n",
    "        energies.append(energy)\n",
    "    \n",
    "    # Using filter() to remove empty items in energy list\n",
    "    energies = list(filter(None, energies))\n",
    "\n",
    "    # Convert the items in the list (energies) from string to float\n",
    "    for i in range(len(energies)):\n",
    "        energies[i] = float(energies[i])\n",
    "\n",
    "    return energies\n",
    "\n",
    "def get_fermi_energy(nscf_out_file):\n",
    "    \"\"\"\n",
    "    This function reads the QE .out file from the nscf calculation to find the line which stores the Fermi energy to convert\n",
    "    it to float and return that value.\n",
    "    \"\"\"\n",
    "    ecutwfc = []\n",
    "    with open(nscf_out_file, 'r') as file:\n",
    "        fermi_energy_line = None  # Initialize energy_line before the loop\n",
    "        for line in file:\n",
    "            if 'the Fermi energy is' in line:\n",
    "                fermi_energy_line = line\n",
    "                break\n",
    "                \n",
    "    if fermi_energy_line:\n",
    "        index = fermi_energy_line.find('the Fermi energy is')\n",
    "        fermi_energy = float(fermi_energy_line[index + 22: index + 31])\n",
    "\n",
    "    return fermi_energy\n",
    "\n",
    "def get_max_VB_and_min_CB(energies, fermi_energy):\n",
    "    \"\"\"\n",
    "    This function (1) compares the values stored in the energies list with the Fermi energy to obtain the energy values that\n",
    "    form the valence band (when the energy is lower than the Fermi energy) as well as those that form the conduction band \n",
    "    (when energy is higher than the Fermi energy) in order to (2) get the higher energy value that is lower than the Fermi\n",
    "    energy (max of valence band) and the lower energy value that is higher than the Fermi energy (min of the conduction band).\n",
    "    \"\"\"\n",
    "    valence_band_energies = []\n",
    "    conduction_band_energies = []\n",
    "\n",
    "    # Valence band\n",
    "    for energy in energies:\n",
    "        if energy < fermi_energy:\n",
    "            valence_band_energies.append(energy)\n",
    "    \n",
    "    # Conduction band\n",
    "    for energy in energies:\n",
    "        if energy > fermi_energy:\n",
    "            conduction_band_energies.append(energy)\n",
    "\n",
    "    # Getting the max of the valence band\n",
    "    max_VB = max(valence_band_energies)\n",
    "\n",
    "    # Getting the min of the conduction band\n",
    "    min_CB = min(conduction_band_energies)\n",
    "\n",
    "    return max_VB, min_CB\n",
    "\n",
    "def calculate_band_gap(max_VB, min_CB):\n",
    "    \"\"\"\n",
    "    This function computes the band gap of the material by taking the difference between the maximum of the valence band\n",
    "    and the minimum of the conduction band\n",
    "    \"\"\"\n",
    "    band_gap = abs(min_CB - max_VB)\n",
    "    \n",
    "    return band_gap"
   ]
  },
  {
   "cell_type": "code",
   "execution_count": 3,
   "id": "09a3ed81-0850-443b-b2fa-8c93b8f19c2b",
   "metadata": {},
   "outputs": [],
   "source": [
    "### MAIN PROGRAM ###\n",
    "\n",
    "# Insert the file paths of the (1) .dat.gnu file which contains the bands data calculated using the bands.x code in QE and (2) the QE output file of the non-self-consistent calculation .nscf\n",
    "\n",
    "dat_gnu_file = '/home/agarcia/Arturo_MATS/Hexaborides_project/CaB6/unit_cell/bands/bands_c_1.0/CaB6.bands.dat.gnu' # Path to the .dat file which contains the bands structure\n",
    "nscf_out_file = '/home/agarcia/Arturo_MATS/Hexaborides_project/CaB6/unit_cell/bands/bands_c_1.0/qe.30371590.out' # Path to the .out file from the nscf calculation"
   ]
  },
  {
   "cell_type": "code",
   "execution_count": 4,
   "id": "a050e6dc-55b1-4872-ab35-2b7d554d42b2",
   "metadata": {},
   "outputs": [
    {
     "name": "stdout",
     "output_type": "stream",
     "text": [
      "The band gap of this structure is:  1.2114999999999991 eV\n"
     ]
    }
   ],
   "source": [
    "# Getting the energies from the dat.gnu file\n",
    "energies = get_energies(dat_gnu_file)\n",
    "\n",
    "# Retrieving the Fermi energy from the QE .out file from a nscf calculation\n",
    "Fermy_e = get_fermi_energy(nscf_out_file)\n",
    "\n",
    "# Separating the energies correspoding to the valence band from those that form the conduction band and obtain their max and min, respectively\n",
    "max_valence_band, min_conduction_band = get_max_VB_and_min_CB(energies, Fermy_e)\n",
    "\n",
    "# Calculating band gap\n",
    "band_gap = calculate_band_gap(max_valence_band, min_conduction_band)\n",
    "\n",
    "print('The band gap of this structure is: ', band_gap, 'eV')"
   ]
  },
  {
   "cell_type": "code",
   "execution_count": null,
   "id": "ee5d6dc1-62a1-405b-b6a1-5272c90eb16f",
   "metadata": {},
   "outputs": [],
   "source": []
  }
 ],
 "metadata": {
  "kernelspec": {
   "display_name": "Python 3 (ipykernel)",
   "language": "python",
   "name": "python3"
  },
  "language_info": {
   "codemirror_mode": {
    "name": "ipython",
    "version": 3
   },
   "file_extension": ".py",
   "mimetype": "text/x-python",
   "name": "python",
   "nbconvert_exporter": "python",
   "pygments_lexer": "ipython3",
   "version": "3.11.7"
  }
 },
 "nbformat": 4,
 "nbformat_minor": 5
}
