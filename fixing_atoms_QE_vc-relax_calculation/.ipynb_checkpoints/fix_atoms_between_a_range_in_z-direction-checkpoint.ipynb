{
 "cells": [
  {
   "cell_type": "markdown",
   "id": "432de25d-901f-4e9e-b56e-3b169504adcd",
   "metadata": {},
   "source": [
    "# Fixing Atoms in a structural relaxation - Quantum ESPRESSO "
   ]
  },
  {
   "cell_type": "markdown",
   "id": "4c416254-7ed7-4ec1-a343-d02b72b27900",
   "metadata": {},
   "source": [
    "This notebook will serve to read a Quantum ESPRESSO (QE) input file for a vc-relax or relax calculation and fix the atoms located between a specified range along the z-direction\n",
    "\n",
    "- Note: This script only works when the ATOMIC_POSITIONS card uses 'angstrom'"
   ]
  },
  {
   "cell_type": "markdown",
   "id": "0c1be61f-b7eb-4104-a2d9-02f83c0032a0",
   "metadata": {},
   "source": [
    "### Functions required to perform the task"
   ]
  },
  {
   "cell_type": "code",
   "execution_count": 1,
   "id": "e3ca617f-56c4-4515-82a2-b84563b36374",
   "metadata": {},
   "outputs": [],
   "source": [
    "import os\n",
    "\n",
    "# Function for extracting all the atoms from the original input_file\n",
    "def extract_ATOMICPOSITIONS(qe_file):\n",
    "    atomic_positions = []\n",
    "    is_capturing = False\n",
    "    \n",
    "    #print('ATOMIC_POSITIONS crystal')\n",
    "    \n",
    "    with open(qe_file, 'r') as file:\n",
    "        for line in file:\n",
    "            if 'ATOMIC_POSITIONS angstrom' in line:\n",
    "                is_capturing = True\n",
    "            elif is_capturing:\n",
    "                atomic_positions.append(line)\n",
    "\n",
    "    return atomic_positions\n",
    "\n",
    "\n",
    "# Function for extracting the z-coordinate of all atoms\n",
    "def get_z_coordinates(atoms):\n",
    "\n",
    "    atoms_lists = [None] * len(atoms)\n",
    "    z_coordinates = []\n",
    "    \n",
    "    for i,atom in enumerate(atoms):\n",
    "        # Extract the string and split by spaces\n",
    "        atoms_lists[i] = atom.split()\n",
    "        \n",
    "    # Removing empy sublists generated due to blank spaces at the end of the input file\n",
    "    atoms_lists = [sublist for sublist in atoms_lists if sublist]\n",
    "\n",
    "    # Get only the last item of each sublist, which corresponds to the z-coordinate of the atom\n",
    "    for list in atoms_lists:\n",
    "        z_coord = list[-1]\n",
    "        z_coordinates.append(z_coord)\n",
    "    \n",
    "    return z_coordinates\n",
    "\n",
    "\n",
    "# Funtion to identify and select the atoms that will be fixed (those who are between the range z_i to z_f)\n",
    "def selecting_atoms(z_coordinates, z_i, z_f):\n",
    "\n",
    "    atoms_in_range_indexes = []\n",
    "    \n",
    "    # Convert the items in the z_coordinates list from string to float\n",
    "    for i in range(len(z_coordinates)):\n",
    "        z_coordinates[i] = float(z_coordinates[i])\n",
    "\n",
    "    # Identify the atoms that are in the specified range (z_i - z_f)\n",
    "    for i, z_coord in enumerate(z_coordinates):\n",
    "        if z_i < z_coord < z_f:\n",
    "            atom_index = i\n",
    "            atoms_in_range_indexes.append(atom_index)\n",
    "    \n",
    "    return atoms_in_range_indexes\n",
    "\n",
    "\n",
    "# Funtion to fix the selected atoms\n",
    "def fix_atoms(atoms_to_fix_indexes, original_atomic_positions):\n",
    "    new_positions = list(original_atomic_positions)\n",
    "\n",
    "    for index in atoms_to_fix_indexes:\n",
    "        line = original_atomic_positions[index]\n",
    "        new_positions[index] = line[:-2] + ' 0 0 0 \\n'\n",
    "\n",
    "    return new_positions\n",
    "\n",
    "# Function to generate a new file which will contain the structure with fixed atoms\n",
    "def copy_input_template(input_template):\n",
    "    input_file = input_template[:-3] + '_fixed_atoms.in'\n",
    "    \n",
    "    with open(input_template, 'r') as template:\n",
    "        with open(input_file, 'w') as destination:\n",
    "            for line in template:\n",
    "                destination.write(line)\n",
    "                    \n",
    "    return input_file\n",
    "\n",
    "# Funtion to set the new QE input file with fixed atoms by replacing the original ATOMIC_POSITIONS card with the lines in list new_positions\n",
    "def set_qe_input_file(qe_file, new_atomic_positions):\n",
    "    with open(qe_file, 'r') as file:\n",
    "        lines = file.readlines()\n",
    "\n",
    "    with open(qe_file + \"_temp\", 'w') as temp_file:\n",
    "            is_editing = False\n",
    "            for line in lines:\n",
    "                if 'ATOMIC_POSITIONS' in line:\n",
    "                    is_editing = True\n",
    "                    temp_file.write(line)\n",
    "                elif is_editing:\n",
    "                    temp_file.write(new_atomic_positions.pop(0))  # Write one line from new_atomic_positions list\n",
    "                else:\n",
    "                    temp_file.write(line)\n",
    "\n",
    "    # Replace the original file with the temporary file\n",
    "    os.replace(qe_file + \"_temp\", qe_file)"
   ]
  },
  {
   "cell_type": "markdown",
   "id": "da2ae36c-9041-40cf-9872-fadfdcb88c4d",
   "metadata": {},
   "source": [
    "1. First we need to read the QE input file"
   ]
  },
  {
   "cell_type": "code",
   "execution_count": 2,
   "id": "8c4965d7-4d32-4742-8674-4410fbe058f7",
   "metadata": {},
   "outputs": [],
   "source": [
    "# Specify the path to find the file\n",
    "qe_input_path = 'pw_template.in'"
   ]
  },
  {
   "cell_type": "markdown",
   "id": "a6714dde-60f7-47f4-909a-41db0b8f5863",
   "metadata": {},
   "source": [
    "2. We obtain the atomic positions of all atoms"
   ]
  },
  {
   "cell_type": "code",
   "execution_count": 3,
   "id": "139418b5-5feb-44af-b30d-38916d8d1ddf",
   "metadata": {},
   "outputs": [],
   "source": [
    "atomic_pos = extract_ATOMICPOSITIONS(qe_input_path)"
   ]
  },
  {
   "cell_type": "markdown",
   "id": "b9e8fa17-1585-40ff-afd4-204114275d4c",
   "metadata": {},
   "source": [
    "3. Now we extract only the z-coordinates of the atoms and use them to filter all those atoms which are bewteen a certain range along z-direction"
   ]
  },
  {
   "cell_type": "code",
   "execution_count": 4,
   "id": "a8513588-c0c0-46c0-9a66-7ad3905671b6",
   "metadata": {},
   "outputs": [],
   "source": [
    "z_coordinates = get_z_coordinates(atomic_pos)"
   ]
  },
  {
   "cell_type": "markdown",
   "id": "4405fc2d-eb65-4e68-9db5-200cd23eafff",
   "metadata": {},
   "source": [
    "4. We need to specify a range along the z-dimension. All the atoms located inside the range will be fixed. The upper and lower limits must be specified in float format"
   ]
  },
  {
   "cell_type": "code",
   "execution_count": 5,
   "id": "06bda307-4900-4e02-9127-07a1f0333483",
   "metadata": {},
   "outputs": [],
   "source": [
    "# Define range along z-direction\n",
    "lower_limit = 8.0\n",
    "upper_limit = 48.54"
   ]
  },
  {
   "cell_type": "markdown",
   "id": "755aacf4-88f6-4b74-9038-ef5662e1f758",
   "metadata": {},
   "source": [
    "5. Then we identify and fix the atoms placed inside the specified range by modifying the original QE input file. "
   ]
  },
  {
   "cell_type": "code",
   "execution_count": 6,
   "id": "cc80d2b7-de4d-425f-ba78-52b5c7bfc610",
   "metadata": {},
   "outputs": [],
   "source": [
    "# Identify atoms inside the range\n",
    "atoms_inside_range_index = selecting_atoms(z_coordinates, lower_limit, upper_limit)\n",
    "\n",
    "# Fixing atoms inside the range by adding '0 0 0' at the end of the line\n",
    "new_atomic_pos = fix_atoms(atoms_inside_range_index, atomic_pos)\n",
    "\n",
    "# Modifying the QE input file by adding the new atomic positions with fixed atoms\n",
    "new_qe_file_path = copy_input_template(qe_input_path)\n",
    "set_qe_input_file(new_qe_file_path, new_atomic_pos)"
   ]
  },
  {
   "cell_type": "markdown",
   "id": "3bbb7d41-30a1-4c8a-b64f-919caa776b52",
   "metadata": {},
   "source": [
    "Now we have a modified QE input file with some atoms (those enclosed by the lower and upper limits along z-direction) fixed"
   ]
  },
  {
   "cell_type": "code",
   "execution_count": null,
   "id": "5d1e1bd5-2599-4254-a906-7fc62bbdd350",
   "metadata": {},
   "outputs": [],
   "source": []
  }
 ],
 "metadata": {
  "kernelspec": {
   "display_name": "Python 3 (ipykernel)",
   "language": "python",
   "name": "python3"
  },
  "language_info": {
   "codemirror_mode": {
    "name": "ipython",
    "version": 3
   },
   "file_extension": ".py",
   "mimetype": "text/x-python",
   "name": "python",
   "nbconvert_exporter": "python",
   "pygments_lexer": "ipython3",
   "version": "3.11.7"
  }
 },
 "nbformat": 4,
 "nbformat_minor": 5
}
