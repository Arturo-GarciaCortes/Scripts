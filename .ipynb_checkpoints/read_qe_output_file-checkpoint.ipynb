{
 "cells": [
  {
   "cell_type": "code",
   "execution_count": 1,
   "id": "314a80ca-04f1-4402-a953-50e1ea24d3d7",
   "metadata": {},
   "outputs": [],
   "source": [
    "from ase.io.espresso import read_espresso_out\n",
    "from ase import Atoms\n",
    "\n",
    "## Retrieving the relaxed structure and information from a Quantum ESPRESSO output file (relax or vc-relax calculation) ASE\n",
    "qe_output_file_1 = '/home/agarcia/Arturo_MATS/HAp_project/HAp_supercells/2x2x2/doped/europium/europium3+/OH_to_O/0Ca1_1Ca2/qe.33559367.out'\n",
    "with open(qe_output_file_1, 'r') as file:\n",
    "    for atoms in read_espresso_out(file, index=slice(-1,None)):\n",
    "        zeroCa1_1Ca2_relaxed_structure = atoms"
   ]
  },
  {
   "cell_type": "code",
   "execution_count": null,
   "id": "df2b616e-a5f3-4a38-b619-927423566ca4",
   "metadata": {},
   "outputs": [],
   "source": []
  }
 ],
 "metadata": {
  "kernelspec": {
   "display_name": "Python 3 (ipykernel)",
   "language": "python",
   "name": "python3"
  },
  "language_info": {
   "codemirror_mode": {
    "name": "ipython",
    "version": 3
   },
   "file_extension": ".py",
   "mimetype": "text/x-python",
   "name": "python",
   "nbconvert_exporter": "python",
   "pygments_lexer": "ipython3",
   "version": "3.11.7"
  }
 },
 "nbformat": 4,
 "nbformat_minor": 5
}
